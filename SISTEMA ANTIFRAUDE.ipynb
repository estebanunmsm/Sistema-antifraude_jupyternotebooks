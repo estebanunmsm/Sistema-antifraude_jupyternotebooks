{
 "cells": [
  {
   "cell_type": "code",
   "execution_count": 1,
   "id": "436710e3",
   "metadata": {},
   "outputs": [],
   "source": [
    "from sklearn.ensemble import RandomForestClassifier\n",
    "from sklearn.model_selection import train_test_split\n",
    "import pandas as pd"
   ]
  },
  {
   "cell_type": "code",
   "execution_count": 2,
   "id": "85e0a196",
   "metadata": {},
   "outputs": [],
   "source": [
    "# Cargar los datos de entrenamiento desde un archivo CSV\n",
    "data = pd.read_csv(\"card_transdata.csv\")"
   ]
  },
  {
   "cell_type": "code",
   "execution_count": 3,
   "id": "9b6b2b33",
   "metadata": {},
   "outputs": [
    {
     "data": {
      "text/html": [
       "<div>\n",
       "<style scoped>\n",
       "    .dataframe tbody tr th:only-of-type {\n",
       "        vertical-align: middle;\n",
       "    }\n",
       "\n",
       "    .dataframe tbody tr th {\n",
       "        vertical-align: top;\n",
       "    }\n",
       "\n",
       "    .dataframe thead th {\n",
       "        text-align: right;\n",
       "    }\n",
       "</style>\n",
       "<table border=\"1\" class=\"dataframe\">\n",
       "  <thead>\n",
       "    <tr style=\"text-align: right;\">\n",
       "      <th></th>\n",
       "      <th>distance_from_home</th>\n",
       "      <th>distance_from_last_transaction</th>\n",
       "      <th>ratio_to_median_purchase_price</th>\n",
       "      <th>repeat_retailer</th>\n",
       "      <th>used_chip</th>\n",
       "      <th>used_pin_number</th>\n",
       "      <th>online_order</th>\n",
       "      <th>fraud</th>\n",
       "    </tr>\n",
       "  </thead>\n",
       "  <tbody>\n",
       "    <tr>\n",
       "      <th>0</th>\n",
       "      <td>57.877857</td>\n",
       "      <td>0.311140</td>\n",
       "      <td>1.945940</td>\n",
       "      <td>1.0</td>\n",
       "      <td>1.0</td>\n",
       "      <td>0.0</td>\n",
       "      <td>0.0</td>\n",
       "      <td>0.0</td>\n",
       "    </tr>\n",
       "    <tr>\n",
       "      <th>1</th>\n",
       "      <td>10.829943</td>\n",
       "      <td>0.175592</td>\n",
       "      <td>1.294219</td>\n",
       "      <td>1.0</td>\n",
       "      <td>0.0</td>\n",
       "      <td>0.0</td>\n",
       "      <td>0.0</td>\n",
       "      <td>0.0</td>\n",
       "    </tr>\n",
       "    <tr>\n",
       "      <th>2</th>\n",
       "      <td>5.091079</td>\n",
       "      <td>0.805153</td>\n",
       "      <td>0.427715</td>\n",
       "      <td>1.0</td>\n",
       "      <td>0.0</td>\n",
       "      <td>0.0</td>\n",
       "      <td>1.0</td>\n",
       "      <td>0.0</td>\n",
       "    </tr>\n",
       "    <tr>\n",
       "      <th>3</th>\n",
       "      <td>2.247564</td>\n",
       "      <td>5.600044</td>\n",
       "      <td>0.362663</td>\n",
       "      <td>1.0</td>\n",
       "      <td>1.0</td>\n",
       "      <td>0.0</td>\n",
       "      <td>1.0</td>\n",
       "      <td>0.0</td>\n",
       "    </tr>\n",
       "    <tr>\n",
       "      <th>4</th>\n",
       "      <td>44.190936</td>\n",
       "      <td>0.566486</td>\n",
       "      <td>2.222767</td>\n",
       "      <td>1.0</td>\n",
       "      <td>1.0</td>\n",
       "      <td>0.0</td>\n",
       "      <td>1.0</td>\n",
       "      <td>0.0</td>\n",
       "    </tr>\n",
       "  </tbody>\n",
       "</table>\n",
       "</div>"
      ],
      "text/plain": [
       "   distance_from_home  distance_from_last_transaction  \\\n",
       "0           57.877857                        0.311140   \n",
       "1           10.829943                        0.175592   \n",
       "2            5.091079                        0.805153   \n",
       "3            2.247564                        5.600044   \n",
       "4           44.190936                        0.566486   \n",
       "\n",
       "   ratio_to_median_purchase_price  repeat_retailer  used_chip  \\\n",
       "0                        1.945940              1.0        1.0   \n",
       "1                        1.294219              1.0        0.0   \n",
       "2                        0.427715              1.0        0.0   \n",
       "3                        0.362663              1.0        1.0   \n",
       "4                        2.222767              1.0        1.0   \n",
       "\n",
       "   used_pin_number  online_order  fraud  \n",
       "0              0.0           0.0    0.0  \n",
       "1              0.0           0.0    0.0  \n",
       "2              0.0           1.0    0.0  \n",
       "3              0.0           1.0    0.0  \n",
       "4              0.0           1.0    0.0  "
      ]
     },
     "execution_count": 3,
     "metadata": {},
     "output_type": "execute_result"
    }
   ],
   "source": [
    "data.head()"
   ]
  },
  {
   "cell_type": "code",
   "execution_count": 4,
   "id": "1213d4a0",
   "metadata": {},
   "outputs": [],
   "source": [
    "data.rename(columns={\n",
    "    'distance_from_home': 'distancia_de_casa',\n",
    "    'distance_from_last_transaction': 'distancia_desde_ultima_transaccion',\n",
    "    'ratio_to_median_purchase_price': 'relacion_con_precio_medio_de_compra',\n",
    "    'repeat_retailer': 'minorista_habitual',\n",
    "    'used_chip': 'chip_usado',\n",
    "    'used_pin_number': 'numero_pin_usado',\n",
    "    'online_order': 'comprar_online',\n",
    "    'fraud': 'fraude'\n",
    "}, inplace=True)"
   ]
  },
  {
   "cell_type": "code",
   "execution_count": 5,
   "id": "413507f7",
   "metadata": {},
   "outputs": [],
   "source": [
    "X = data.drop(\"fraude\", axis=1)  # Características de entrenamiento\n",
    "y = data[\"fraude\"]  # Etiquetas de entrenamiento"
   ]
  },
  {
   "cell_type": "code",
   "execution_count": 6,
   "id": "e4f90b27",
   "metadata": {},
   "outputs": [],
   "source": [
    "#80% de los datos seran para test y 20% para validación\n",
    "X_train, X_test, y_train, y_test = train_test_split(X, y,\n",
    "                                                   test_size = 0.2,\n",
    "                                                   random_state = 1,\n",
    "                                                   stratify = y)"
   ]
  },
  {
   "cell_type": "code",
   "execution_count": 7,
   "id": "35bd90a5",
   "metadata": {},
   "outputs": [
    {
     "name": "stdout",
     "output_type": "stream",
     "text": [
      "Numero de muestras en y: [912597  87403]\n",
      "Numero de muestras en y_train: [730078  69922]\n",
      "Numero de muestras en y_test: [182519  17481]\n"
     ]
    }
   ],
   "source": [
    "import numpy as np\n",
    "print('Numero de muestras en y:', np.bincount(y))\n",
    "print('Numero de muestras en y_train:', np.bincount(y_train))\n",
    "print('Numero de muestras en y_test:', np.bincount(y_test))"
   ]
  },
  {
   "cell_type": "code",
   "execution_count": 8,
   "id": "af297950",
   "metadata": {},
   "outputs": [
    {
     "data": {
      "text/plain": [
       "\"\\nimport time\\nimport matplotlib.pyplot as plt\\nfrom sklearn.model_selection import GridSearchCV\\n\\nn_estimators_range = range(3, 8)\\nmax_depth_range = range(3, 13, 3)\\nparam_grid = {'n_estimators': n_estimators_range, 'max_depth': max_depth_range, 'random_state': [5]}\\n\\nstart_time = time.time()\\n\\nrfc_grid = GridSearchCV(estimator=RandomForestClassifier(), param_grid=param_grid, scoring='accuracy')\\nrfc_grid.fit(X_train, y_train)\\n\\nelapsed_time = time.time() - start_time\\n\\nprint('RFC tuning time: ', elapsed_time)\\nprint('Best score obtained with RFC: ' + str(rfc_grid.best_score_))\\nprint('by setting', rfc_grid.best_params_)\\n\\nresults = rfc_grid.cv_results_\\nfig = plt.figure()\\nax = fig.add_subplot(projection='3d')\\n\\nx = results['param_max_depth']\\ny = results['param_n_estimators']\\nz = results['mean_test_score']\\nax.scatter(x, y, z)\\nax.set_xlabel('max_depth')\\nax.set_ylabel('n_estimators')\\nax.set_zlabel('mean_test_score')\\n\""
      ]
     },
     "execution_count": 8,
     "metadata": {},
     "output_type": "execute_result"
    }
   ],
   "source": [
    "# Codigo para saber los hiperparemetros de mayor rendimiento \n",
    "# su ejecucion demora un tiempo considerable dependiendo de los recursos de hardhware\n",
    "\"\"\"\n",
    "import time\n",
    "import matplotlib.pyplot as plt\n",
    "from sklearn.model_selection import GridSearchCV\n",
    "\n",
    "n_estimators_range = range(3, 8)\n",
    "max_depth_range = range(3, 13, 3)\n",
    "param_grid = {'n_estimators': n_estimators_range, 'max_depth': max_depth_range, 'random_state': [5]}\n",
    "\n",
    "start_time = time.time()\n",
    "\n",
    "rfc_grid = GridSearchCV(estimator=RandomForestClassifier(), param_grid=param_grid, scoring='accuracy')\n",
    "rfc_grid.fit(X_train, y_train)\n",
    "\n",
    "elapsed_time = time.time() - start_time\n",
    "\n",
    "print('RFC tuning time: ', elapsed_time)\n",
    "print('Best score obtained with RFC: ' + str(rfc_grid.best_score_))\n",
    "print('by setting', rfc_grid.best_params_)\n",
    "\n",
    "results = rfc_grid.cv_results_\n",
    "fig = plt.figure()\n",
    "ax = fig.add_subplot(projection='3d')\n",
    "\n",
    "x = results['param_max_depth']\n",
    "y = results['param_n_estimators']\n",
    "z = results['mean_test_score']\n",
    "ax.scatter(x, y, z)\n",
    "ax.set_xlabel('max_depth')\n",
    "ax.set_ylabel('n_estimators')\n",
    "ax.set_zlabel('mean_test_score')\n",
    "\"\"\""
   ]
  },
  {
   "cell_type": "code",
   "execution_count": 9,
   "id": "db1b69c8",
   "metadata": {},
   "outputs": [],
   "source": [
    "# Ajustes del modelo\n",
    "n_estimators = 7\n",
    "criterion = 'gini'\n",
    "max_depth = 9\n",
    "random_state = 5\n",
    "# Crear instancia del modelo\n",
    "model = RandomForestClassifier(n_estimators=n_estimators,\n",
    "                                criterion=criterion,\n",
    "                                max_depth=max_depth,\n",
    "                                random_state=random_state\n",
    "                                )"
   ]
  },
  {
   "cell_type": "code",
   "execution_count": 10,
   "id": "86296447",
   "metadata": {},
   "outputs": [
    {
     "name": "stdout",
     "output_type": "stream",
     "text": [
      "RFC tuning time:  6.934939622879028\n"
     ]
    }
   ],
   "source": [
    "import time\n",
    "start_time = time.time()\n",
    "model.fit(X_train, y_train)  #entranamos el modelo\n",
    "elapsed_time = time.time() - start_time\n",
    "print('RFC tuning time: ', elapsed_time)"
   ]
  },
  {
   "cell_type": "code",
   "execution_count": 11,
   "id": "473eb2d8",
   "metadata": {},
   "outputs": [
    {
     "data": {
      "text/plain": [
       "\"\\n#metricas para saber la presicion del modelo\\nimport matplotlib.pyplot as plt\\nfrom sklearn.metrics import confusion_matrix, ConfusionMatrixDisplay, classification_report\\ny_rfc = model.predict(X_test)\\ncm = confusion_matrix(y_true=y_test, y_pred=y_rfc)\\nConfusionMatrixDisplay(cm).plot(cmap='Blues', colorbar=False)\\nplt.title('RFC Confusion Matrix')\\nplt.show()\\n\\nreport = pd.DataFrame(data=classification_report(\\n    y_true=y_test, y_pred=y_rfc, output_dict=True))\\nreport\\n\""
      ]
     },
     "execution_count": 11,
     "metadata": {},
     "output_type": "execute_result"
    }
   ],
   "source": [
    "\"\"\"\n",
    "#metricas para saber la presicion del modelo\n",
    "import matplotlib.pyplot as plt\n",
    "from sklearn.metrics import confusion_matrix, ConfusionMatrixDisplay, classification_report\n",
    "y_rfc = model.predict(X_test)\n",
    "cm = confusion_matrix(y_true=y_test, y_pred=y_rfc)\n",
    "ConfusionMatrixDisplay(cm).plot(cmap='Blues', colorbar=False)\n",
    "plt.title('RFC Confusion Matrix')\n",
    "plt.show()\n",
    "\n",
    "report = pd.DataFrame(data=classification_report(\n",
    "    y_true=y_test, y_pred=y_rfc, output_dict=True))\n",
    "report\n",
    "\"\"\""
   ]
  },
  {
   "cell_type": "code",
   "execution_count": 12,
   "id": "4cc1ab4a",
   "metadata": {},
   "outputs": [
    {
     "data": {
      "text/plain": [
       "'\\nfrom sklearn.metrics import accuracy_score, precision_score, recall_score, f1_score\\ny_pred = model.predict(X_test)\\n\\n# Evaluar el rendimiento del modelo\\naccuracy = accuracy_score(y_test, y_pred)\\nprecision = precision_score(y_test, y_pred)\\nrecall = recall_score(y_test, y_pred)\\nf1 = f1_score(y_test, y_pred)\\n\\nprint(\"Accuracy:\", accuracy)\\nprint(\"Precision:\", precision)\\nprint(\"Recall:\", recall)\\nprint(\"F1-score:\", f1)\\n'"
      ]
     },
     "execution_count": 12,
     "metadata": {},
     "output_type": "execute_result"
    }
   ],
   "source": [
    "# Realizar predicciones en el conjunto de prueba\n",
    "\"\"\"\n",
    "from sklearn.metrics import accuracy_score, precision_score, recall_score, f1_score\n",
    "y_pred = model.predict(X_test)\n",
    "\n",
    "# Evaluar el rendimiento del modelo\n",
    "accuracy = accuracy_score(y_test, y_pred)\n",
    "precision = precision_score(y_test, y_pred)\n",
    "recall = recall_score(y_test, y_pred)\n",
    "f1 = f1_score(y_test, y_pred)\n",
    "\n",
    "print(\"Accuracy:\", accuracy)\n",
    "print(\"Precision:\", precision)\n",
    "print(\"Recall:\", recall)\n",
    "print(\"F1-score:\", f1)\n",
    "\"\"\""
   ]
  },
  {
   "cell_type": "code",
   "execution_count": 13,
   "id": "f1754356",
   "metadata": {},
   "outputs": [
    {
     "data": {
      "text/plain": [
       "\"\\nprint('Train Accuracy : %.5f' % model.score(X_train, y_train))\\nprint('Test Accuracy : %.5f' % model.score(X_test, y_test))\\n\""
      ]
     },
     "execution_count": 13,
     "metadata": {},
     "output_type": "execute_result"
    }
   ],
   "source": [
    "# Precision global de clasificación correcta\n",
    "\"\"\"\n",
    "print('Train Accuracy : %.5f' % model.score(X_train, y_train))\n",
    "print('Test Accuracy : %.5f' % model.score(X_test, y_test))\n",
    "\"\"\""
   ]
  },
  {
   "cell_type": "code",
   "execution_count": 19,
   "id": "a6aa8813",
   "metadata": {},
   "outputs": [
    {
     "data": {
      "text/plain": [
       "'\\ndistance_from_home - la distancia desde casa donde ocurrió la transacción.\\n\\ndistance_from_last_transaction - distancia desde la última transacción realizada.\\n\\nratio_to_median_purchase_price - Relación entre el precio de compra de la transacción y el precio medio de compra.\\n\\nrepeat_retailer - La transacción se ha realizado en el mismo minorista.\\n\\nused_chip - La transacción se ha realizado mediante chip (tarjeta de crédito).\\n\\nused_pin_number - La transacción se ha realizado utilizando un número PIN.\\n\\nonline_order - La transacción es un pedido en línea.\\n\\nfraud - La transacción es fraudulenta.\\n'"
      ]
     },
     "execution_count": 19,
     "metadata": {},
     "output_type": "execute_result"
    }
   ],
   "source": [
    "\"\"\"\n",
    "distance_from_home - la distancia desde casa donde ocurrió la transacción.\n",
    "\n",
    "distance_from_last_transaction - distancia desde la última transacción realizada.\n",
    "\n",
    "ratio_to_median_purchase_price - Relación entre el precio de compra de la transacción y el precio medio de compra.\n",
    "\n",
    "repeat_retailer - La transacción se ha realizado en el mismo minorista.\n",
    "\n",
    "used_chip - La transacción se ha realizado mediante chip (tarjeta de crédito).\n",
    "\n",
    "used_pin_number - La transacción se ha realizado utilizando un número PIN.\n",
    "\n",
    "online_order - La transacción es un pedido en línea.\n",
    "\n",
    "fraud - La transacción es fraudulenta.\n",
    "\"\"\""
   ]
  },
  {
   "cell_type": "code",
   "execution_count": 14,
   "id": "8718e9eb",
   "metadata": {},
   "outputs": [],
   "source": [
    "# Para usar este codigo debe ver el siguiente video, la contraseña no esta incluida por seguridad\n",
    "# https://www.youtube.com/watch?v=DDVpKvJXRz8\n",
    "import ssl\n",
    "import smtplib\n",
    "from email.message import EmailMessage\n",
    "with open('contrasena.txt', 'r') as file:\n",
    "    email_contrasena = file.readline().strip()"
   ]
  },
  {
   "cell_type": "code",
   "execution_count": 17,
   "id": "982c5c92",
   "metadata": {},
   "outputs": [],
   "source": [
    "# Variables para almacenar las transacciones simuladas y las alertas generadas\n",
    "import datetime\n",
    "simulated_transactions = []\n",
    "alerts = []\n",
    "tarjetas_bloqueadas = []\n",
    "tarjetas_registradas = {}\n",
    "tarjetas_transacciones = {}\n",
    "\n",
    "\n",
    "def enviar_correo(email_receptor):\n",
    "    email_emisor = 'esteocalu@gmail.com'\n",
    "    asunto = 'ALERTA DE FRAUDE'\n",
    "    cuerpo = \"\"\"SE DETECTO UNA TRANSACCION SOSPECHOSA Y SE BLOQUEO SU TARJETA.\n",
    "POR FAVOR LLAMAR A ATENCIÓN AL CLIENTE PARA DESBLOQUEAR TARJETA\"\"\"\n",
    "    em = EmailMessage()\n",
    "    em['From'] = email_emisor\n",
    "    em['To'] = email_receptor\n",
    "    em['Subject'] = asunto\n",
    "    em.set_content(cuerpo)\n",
    "\n",
    "    contexto = ssl.create_default_context()\n",
    "\n",
    "    with smtplib.SMTP_SSL('smtp.gmail.com', 465, context=contexto) as smtp:\n",
    "        smtp.login(email_emisor, email_contrasena)\n",
    "        smtp.sendmail(email_emisor, email_receptor, em.as_string())\n",
    "        \n",
    "def validate_card_number(numero_tarjeta):\n",
    "    if len(numero_tarjeta) != 16:\n",
    "        print(\"El número de tarjeta debe contener exactamente 16 dígitos.\")\n",
    "        return False\n",
    "    return True\n",
    "\n",
    "def simulate_transaction(numero_tarjeta):\n",
    "    global simulated_transactions, alerts, tarjetas_bloqueadas\n",
    "    if numero_tarjeta in tarjetas_bloqueadas:\n",
    "        print(\"La tarjeta está bloqueada. No se puede realizar la transacción.\")\n",
    "        return False\n",
    "    else:\n",
    "        distancia_de_casa = float(input(\"Ingrese la distancia desde casa: \"))\n",
    "        distancia_desde_ultima_transaccion = float(input(\"Ingrese la distancia desde la última transacción: \"))\n",
    "        relacion_con_precio_medio_de_compra = float(input(\"Ingrese la relación con el precio medio de compra: \"))\n",
    "        minorista_habitual = int(input(\"¿Es un minorista habitual? (1 para Sí, 0 para No): \"))\n",
    "        chip_usado = int(input(\"¿Se utilizó el chip de la tarjeta? (1 para Sí, 0 para No): \"))\n",
    "        numero_pin_usado = int(input(\"¿Se utilizó el número PIN de la tarjeta? (1 para Sí, 0 para No): \"))\n",
    "        comprar_online = int(input(\"¿Se realizó la compra en línea? (1 para Sí, 0 para No): \"))\n",
    "\n",
    "        # Realizar la predicción del modelo para determinar si la transacción es fraudulenta o no\n",
    "        prediction = model.predict([[distancia_de_casa, distancia_desde_ultima_transaccion,\n",
    "                                     relacion_con_precio_medio_de_compra, minorista_habitual,\n",
    "                                     chip_usado, numero_pin_usado, comprar_online]])[0]\n",
    "\n",
    "        if prediction == 1:\n",
    "            # print(\"¡Alerta de fraude! La transacción ha sido marcada como fraudulenta.\")\n",
    "            alerts.append((distancia_de_casa, distancia_desde_ultima_transaccion,\n",
    "                           relacion_con_precio_medio_de_compra, minorista_habitual,\n",
    "                           chip_usado, numero_pin_usado, comprar_online, numero_tarjeta))\n",
    "            email_receptor= input(\"\"\"¡Alerta de fraude! La transacción ha sido marcada como fraudulenta.\n",
    "Ingrese el correo electronico del cliente:\"\"\" )\n",
    "            #enviar_correo(email_receptor) para usar esta funcion se debe revisar la celda anterior\n",
    "            print(\"El correo electrónico de alerta ha sido enviado.\")\n",
    "            \n",
    "        else:\n",
    "            print(\"La transacción es legítima.\")\n",
    "\n",
    "        simulated_transactions.append((distancia_de_casa, distancia_desde_ultima_transaccion,\n",
    "                                       relacion_con_precio_medio_de_compra, minorista_habitual,\n",
    "                                       chip_usado, numero_pin_usado, comprar_online))\n",
    "    return True\n",
    "\n",
    "def manage_card():\n",
    "    global tarjetas_bloqueadas, tarjetas_registradas, tarjetas_transacciones\n",
    "    print(\"\\n----- Gestión de tarjeta -----\")\n",
    "    print(\"a. Bloqueo de tarjeta\")\n",
    "    print(\"b. Desbloqueo de tarjeta\")\n",
    "    print(\"c. Registro de tarjeta\")\n",
    "    sub_option = input(\"Ingrese una opción: \")\n",
    "\n",
    "    if sub_option == \"a\":\n",
    "        print(\"\\n----- Bloqueo de tarjeta -----\")\n",
    "        card_to_block = input(\"Ingrese el número de tarjeta a bloquear: \")\n",
    "        tarjetas_bloqueadas.append(card_to_block)\n",
    "        tarjetas_registradas[card_to_block] = \"Bloqueada\"\n",
    "        tarjetas_transacciones.setdefault(card_to_block, []).append((\"Bloqueo\", datetime.datetime.now()))\n",
    "        print(\"La tarjeta ha sido bloqueada.\")\n",
    "\n",
    "    elif sub_option == \"b\":\n",
    "        print(\"\\n----- Desbloqueo de tarjeta -----\")\n",
    "        card_to_unblock = input(\"Ingrese el número de tarjeta a desbloquear: \")\n",
    "        if card_to_unblock in tarjetas_bloqueadas:\n",
    "            tarjetas_bloqueadas.remove(card_to_unblock)\n",
    "            tarjetas_registradas[card_to_unblock] = \"Desbloqueada\"\n",
    "            tarjetas_transacciones.setdefault(card_to_unblock, []).append((\"Desbloqueo\", datetime.datetime.now()))\n",
    "            print(\"La tarjeta ha sido desbloqueada.\")\n",
    "        else:\n",
    "            print(\"La tarjeta no está bloqueada.\")\n",
    "\n",
    "    elif sub_option == \"c\":\n",
    "        print(\"\\n----- Registro de tarjeta -----\")\n",
    "        print(\"Estado actual de las tarjetas:\")\n",
    "        for tarjeta, estado in tarjetas_registradas.items():\n",
    "            print(f\"Número de tarjeta: {tarjeta}, Estado: {estado}\")\n",
    "            if tarjeta in tarjetas_transacciones:\n",
    "                print(\"Transacciones:\")\n",
    "                for transaccion in tarjetas_transacciones[tarjeta]:\n",
    "                    print(f\"Tipo: {transaccion[0]}, Fecha y hora: {transaccion[1]}\")\n",
    "            else:\n",
    "                print(\"No hay transacciones registradas para esta tarjeta.\")\n",
    "    else:\n",
    "        print(\"Opción inválida. Por favor, seleccione una opción válida.\")\n",
    "\n",
    "def display_alerts():\n",
    "    global alerts\n",
    "    print(\"\\n----- Alertas generadas -----\")\n",
    "    for alert in alerts:\n",
    "        print(f\"Número de tarjeta: {alert[7]}\")\n",
    "        print(f\"Distancia de casa: {alert[0]}, Distancia desde última transacción: {alert[1]}, \"\n",
    "              f\"Relación con precio medio de compra: {alert[2]}, Minorista habitual: {alert[3]}, \"\n",
    "              f\"Chip usado: {alert[4]}, Número PIN usado: {alert[5]}, Comprar en línea: {alert[6]}\")\n",
    "\n",
    "def main_menu():\n",
    "    global simulated_transactions\n",
    "    while True:\n",
    "        print(\"\\n----- Menú Principal -----\")\n",
    "        print(\"1. Simulación de transacción\")\n",
    "        print(\"2. Alertas generadas\")\n",
    "        print(\"3. Gestión de tarjeta\")\n",
    "        print(\"4. Salir\")\n",
    "\n",
    "        option = input(\"Ingrese una opción: \")\n",
    "\n",
    "        if option == \"1\":\n",
    "            print(\"\\n----- Simulación de transacción -----\")\n",
    "            numero_tarjeta = input(\"Ingrese el número de tarjeta de crédito: \")\n",
    "            if validate_card_number(numero_tarjeta):\n",
    "                simulate_transaction(numero_tarjeta)\n",
    "\n",
    "        elif option == \"2\":\n",
    "            display_alerts()\n",
    "\n",
    "        elif option == \"3\":\n",
    "            manage_card()\n",
    "\n",
    "        elif option == \"4\":\n",
    "            break\n",
    "\n",
    "        else:\n",
    "            print(\"Opción inválida. Por favor, seleccione una opción válida.\")\n",
    "\n",
    "    print(\"¡Gracias por usar el programa!\")"
   ]
  },
  {
   "cell_type": "code",
   "execution_count": null,
   "id": "b0354461",
   "metadata": {
    "scrolled": false
   },
   "outputs": [
    {
     "name": "stdout",
     "output_type": "stream",
     "text": [
      "\n",
      "----- Menú Principal -----\n",
      "1. Simulación de transacción\n",
      "2. Alertas generadas\n",
      "3. Gestión de tarjeta\n",
      "4. Salir\n",
      "Ingrese una opción: 1\n",
      "\n",
      "----- Simulación de transacción -----\n",
      "Ingrese el número de tarjeta de crédito: 1234567812345678\n",
      "La tarjeta está bloqueada. No se puede realizar la transacción.\n",
      "\n",
      "----- Menú Principal -----\n",
      "1. Simulación de transacción\n",
      "2. Alertas generadas\n",
      "3. Gestión de tarjeta\n",
      "4. Salir\n",
      "Ingrese una opción: 2\n",
      "\n",
      "----- Alertas generadas -----\n",
      "Número de tarjeta: 1234567812345678\n",
      "Distancia de casa: 22.6, Distancia desde última transacción: 0.01, Relación con precio medio de compra: 4.6, Minorista habitual: 1, Chip usado: 0, Número PIN usado: 0, Comprar en línea: 1\n",
      "\n",
      "----- Menú Principal -----\n",
      "1. Simulación de transacción\n",
      "2. Alertas generadas\n",
      "3. Gestión de tarjeta\n",
      "4. Salir\n",
      "Ingrese una opción: 2\n",
      "\n",
      "----- Alertas generadas -----\n",
      "Número de tarjeta: 1234567812345678\n",
      "Distancia de casa: 22.6, Distancia desde última transacción: 0.01, Relación con precio medio de compra: 4.6, Minorista habitual: 1, Chip usado: 0, Número PIN usado: 0, Comprar en línea: 1\n",
      "\n",
      "----- Menú Principal -----\n",
      "1. Simulación de transacción\n",
      "2. Alertas generadas\n",
      "3. Gestión de tarjeta\n",
      "4. Salir\n"
     ]
    }
   ],
   "source": [
    "main_menu()"
   ]
  },
  {
   "cell_type": "code",
   "execution_count": null,
   "id": "fed31141",
   "metadata": {},
   "outputs": [],
   "source": []
  }
 ],
 "metadata": {
  "kernelspec": {
   "display_name": "Python 3 (ipykernel)",
   "language": "python",
   "name": "python3"
  },
  "language_info": {
   "codemirror_mode": {
    "name": "ipython",
    "version": 3
   },
   "file_extension": ".py",
   "mimetype": "text/x-python",
   "name": "python",
   "nbconvert_exporter": "python",
   "pygments_lexer": "ipython3",
   "version": "3.10.9"
  }
 },
 "nbformat": 4,
 "nbformat_minor": 5
}
